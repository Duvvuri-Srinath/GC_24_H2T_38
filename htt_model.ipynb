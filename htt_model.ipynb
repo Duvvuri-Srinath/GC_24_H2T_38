{
 "cells": [
  {
   "cell_type": "code",
   "execution_count": 2,
   "metadata": {},
   "outputs": [],
   "source": [
    "import os \n",
    "os.environ[\"KERAS_BACKEND\"] = \"tensorflow\" "
   ]
  },
  {
   "cell_type": "code",
   "execution_count": 3,
   "metadata": {},
   "outputs": [
    {
     "name": "stderr",
     "output_type": "stream",
     "text": [
      "2024-03-24 22:41:14.551262: I tensorflow/core/util/port.cc:113] oneDNN custom operations are on. You may see slightly different numerical results due to floating-point round-off errors from different computation orders. To turn them off, set the environment variable `TF_ENABLE_ONEDNN_OPTS=0`.\n",
      "2024-03-24 22:41:14.585642: I tensorflow/core/platform/cpu_feature_guard.cc:210] This TensorFlow binary is optimized to use available CPU instructions in performance-critical operations.\n",
      "To enable the following instructions: AVX2 AVX512F AVX512_VNNI FMA, in other operations, rebuild TensorFlow with the appropriate compiler flags.\n",
      "2024-03-24 22:41:15.234597: W tensorflow/compiler/tf2tensorrt/utils/py_utils.cc:38] TF-TRT Warning: Could not find TensorRT\n"
     ]
    }
   ],
   "source": [
    "import pandas as pd\n",
    "import numpy as np\n",
    "from keras.models import Sequential\n",
    "from keras.layers import Conv1D, LSTM, Dense, Flatten\n",
    "from sklearn.utils import shuffle\n",
    "from sklearn.model_selection import train_test_split\n"
   ]
  },
  {
   "cell_type": "code",
   "execution_count": 4,
   "metadata": {},
   "outputs": [
    {
     "name": "stdout",
     "output_type": "stream",
     "text": [
      "Shape of X_train: (672, 50, 6)\n",
      "Shape of X_val: (168, 50, 6)\n",
      "Shape of y_train: (672, 15)\n",
      "Shape of y_val: (168, 15)\n"
     ]
    }
   ],
   "source": [
    "timesteps, features = 50, 6\n",
    "X, Y =  [], []\n",
    "alphabet_lists = ['A', 'B', 'C', 'I', 'V', 'z', 's', 'b', 'a', '7', '0', 'space', 'comma', 'fullstop', 'backspace']\n",
    "num_classes = len(alphabet_lists)\n",
    "for alphabets in range(num_classes):\n",
    "    file = pd.read_csv(alphabet_lists[alphabets]+\"_numSamples_50_threshold_0.1_delay_1.csv\")\n",
    "    file = file.to_numpy()\n",
    "    for i in range(30):\n",
    "        sample = file[i:i+50]\n",
    "        X.append(sample)\n",
    "        classes = np.zeros(num_classes)\n",
    "        classes[alphabets] = 1\n",
    "        Y.append(classes)\n",
    "\n",
    "for alphabets in range(num_classes):\n",
    "    if alphabets in [9,10]: continue\n",
    "    # file = pd.read_csv('htt_gc/test/test_ a_numSamples_50_threshold_0.1_delay_1.csv')\n",
    "    file = pd.read_csv('./test/test_'+alphabet_lists[alphabets]+\"_numSamples_50_threshold_0.1_delay_1.csv\")\n",
    "    file = file.to_numpy()\n",
    "    for i in range(30):\n",
    "        sample = file[i:i+50]\n",
    "        X.append(sample)\n",
    "        classes = np.zeros(num_classes)\n",
    "        classes[alphabets] = 1\n",
    "        Y.append(classes)\n",
    "                \n",
    "X = np.array(X)\n",
    "Y = np.array(Y)\n",
    "X, Y = shuffle(X, Y)\n",
    "# X, X_test, Y, Y_test = train_test_split(X, Y, test_size=0.1, random_state=42)\n",
    "X_train, X_val, Y_train, Y_val = train_test_split(X, Y, test_size=0.2, random_state=42)\n",
    "print(\"Shape of X_train:\", X_train.shape)\n",
    "print(\"Shape of X_val:\", X_val.shape)\n",
    "print(\"Shape of y_train:\", Y_train.shape)\n",
    "print(\"Shape of y_val:\", Y_val.shape)\n",
    "# print(\"Shape of X_test:\", X_test.shape)\n",
    "# print(\"Shape of Y_test:\", Y_test.shape)"
   ]
  },
  {
   "cell_type": "code",
   "execution_count": 7,
   "metadata": {},
   "outputs": [
    {
     "name": "stdout",
     "output_type": "stream",
     "text": [
      "Epoch 1/10\n",
      "\u001b[1m23/23\u001b[0m \u001b[32m━━━━━━━━━━━━━━━━━━━━\u001b[0m\u001b[37m\u001b[0m \u001b[1m2s\u001b[0m 16ms/step - accuracy: 0.0860 - loss: 2.6872 - val_accuracy: 0.1548 - val_loss: 2.5984\n",
      "Epoch 2/10\n",
      "\u001b[1m23/23\u001b[0m \u001b[32m━━━━━━━━━━━━━━━━━━━━\u001b[0m\u001b[37m\u001b[0m \u001b[1m0s\u001b[0m 9ms/step - accuracy: 0.1811 - loss: 2.4852 - val_accuracy: 0.4167 - val_loss: 2.1064\n",
      "Epoch 3/10\n",
      "\u001b[1m23/23\u001b[0m \u001b[32m━━━━━━━━━━━━━━━━━━━━\u001b[0m\u001b[37m\u001b[0m \u001b[1m0s\u001b[0m 8ms/step - accuracy: 0.5408 - loss: 1.7793 - val_accuracy: 0.6488 - val_loss: 1.2661\n",
      "Epoch 4/10\n",
      "\u001b[1m23/23\u001b[0m \u001b[32m━━━━━━━━━━━━━━━━━━━━\u001b[0m\u001b[37m\u001b[0m \u001b[1m0s\u001b[0m 8ms/step - accuracy: 0.7589 - loss: 0.9599 - val_accuracy: 0.7798 - val_loss: 0.7783\n",
      "Epoch 5/10\n",
      "\u001b[1m23/23\u001b[0m \u001b[32m━━━━━━━━━━━━━━━━━━━━\u001b[0m\u001b[37m\u001b[0m \u001b[1m0s\u001b[0m 8ms/step - accuracy: 0.8803 - loss: 0.5193 - val_accuracy: 0.8095 - val_loss: 0.4823\n",
      "Epoch 6/10\n",
      "\u001b[1m23/23\u001b[0m \u001b[32m━━━━━━━━━━━━━━━━━━━━\u001b[0m\u001b[37m\u001b[0m \u001b[1m0s\u001b[0m 8ms/step - accuracy: 0.9382 - loss: 0.3008 - val_accuracy: 0.8869 - val_loss: 0.3467\n",
      "Epoch 7/10\n",
      "\u001b[1m23/23\u001b[0m \u001b[32m━━━━━━━━━━━━━━━━━━━━\u001b[0m\u001b[37m\u001b[0m \u001b[1m0s\u001b[0m 9ms/step - accuracy: 0.9688 - loss: 0.1518 - val_accuracy: 0.9821 - val_loss: 0.1542\n",
      "Epoch 8/10\n",
      "\u001b[1m23/23\u001b[0m \u001b[32m━━━━━━━━━━━━━━━━━━━━\u001b[0m\u001b[37m\u001b[0m \u001b[1m0s\u001b[0m 8ms/step - accuracy: 0.9901 - loss: 0.1003 - val_accuracy: 0.9762 - val_loss: 0.1248\n",
      "Epoch 9/10\n",
      "\u001b[1m23/23\u001b[0m \u001b[32m━━━━━━━━━━━━━━━━━━━━\u001b[0m\u001b[37m\u001b[0m \u001b[1m0s\u001b[0m 8ms/step - accuracy: 0.9785 - loss: 0.0883 - val_accuracy: 0.9881 - val_loss: 0.0809\n",
      "Epoch 10/10\n",
      "\u001b[1m23/23\u001b[0m \u001b[32m━━━━━━━━━━━━━━━━━━━━\u001b[0m\u001b[37m\u001b[0m \u001b[1m0s\u001b[0m 9ms/step - accuracy: 0.9937 - loss: 0.0497 - val_accuracy: 0.9226 - val_loss: 0.2187\n"
     ]
    },
    {
     "data": {
      "text/plain": [
       "<keras.src.callbacks.history.History at 0x7c99e03d3100>"
      ]
     },
     "execution_count": 7,
     "metadata": {},
     "output_type": "execute_result"
    }
   ],
   "source": [
    "model = Sequential()\n",
    "\n",
    "\n",
    "model.add(Conv1D(filters=64, kernel_size=3, activation='relu', input_shape=(timesteps, features)))\n",
    "# model.add(Conv1D(filters=64, kernel_size=3, activation='relu'))\n",
    "model.add(LSTM(10, activation='relu', return_sequences=True))\n",
    "model.add(Flatten())\n",
    "model.add(Dense(50, activation='relu'))\n",
    "model.add(Dense(num_classes, activation='softmax'))\n",
    "model.compile(optimizer='adam', loss='categorical_crossentropy', metrics=['accuracy'])\n",
    "model.fit(X_train, Y_train, epochs=10, batch_size=30, validation_data=(X_val, Y_val))"
   ]
  },
  {
   "cell_type": "code",
   "execution_count": 85,
   "metadata": {},
   "outputs": [
    {
     "name": "stdout",
     "output_type": "stream",
     "text": [
      "Shape of X_test: (390, 50, 6)\n",
      "Shape of Y_test: (390, 15)\n"
     ]
    }
   ],
   "source": [
    "X, Y =  [], []\n",
    "alphabet_lists = ['A', 'B', 'C', 'I', 'V', 'z', 's', 'b', 'a', '7', '0', 'space', 'comma', 'fullstop', 'backspace']\n",
    "for alphabets in range(num_classes):\n",
    "    if alphabets in [9,10]: continue\n",
    "    # file = pd.read_csv('htt_gc/test/test_ a_numSamples_50_threshold_0.1_delay_1.csv')\n",
    "    file = pd.read_csv('./test/test_'+alphabet_lists[alphabets]+\"_numSamples_50_threshold_0.1_delay_1.csv\")\n",
    "    file = file.to_numpy()\n",
    "    for i in range(30):\n",
    "        sample = file[i:i+50]\n",
    "        X.append(sample)\n",
    "        classes = np.zeros(num_classes)\n",
    "        classes[alphabets] = 1\n",
    "        Y.append(classes)\n",
    "X = np.array(X)\n",
    "Y = np.array(Y)\n",
    "X_test, Y_test = shuffle(X, Y)\n",
    "print(\"Shape of X_test:\", X_test.shape)\n",
    "print(\"Shape of Y_test:\", Y_test.shape)"
   ]
  },
  {
   "cell_type": "code",
   "execution_count": 93,
   "metadata": {},
   "outputs": [
    {
     "name": "stdout",
     "output_type": "stream",
     "text": [
      "\u001b[1m13/13\u001b[0m \u001b[32m━━━━━━━━━━━━━━━━━━━━\u001b[0m\u001b[37m\u001b[0m \u001b[1m0s\u001b[0m 11ms/step - accuracy: 1.0000 - loss: 0.0189\n",
      "Test Accuracy: 1.0\n"
     ]
    }
   ],
   "source": [
    "# Evaluate the model\n",
    "loss, accuracy = model.evaluate(X_test, Y_test)\n",
    "print('Test Accuracy:', accuracy)"
   ]
  },
  {
   "cell_type": "code",
   "execution_count": 8,
   "metadata": {},
   "outputs": [
    {
     "name": "stderr",
     "output_type": "stream",
     "text": [
      "WARNING:absl:You are saving your model as an HDF5 file via `model.save()` or `keras.saving.save_model(model)`. This file format is considered legacy. We recommend using instead the native Keras format, e.g. `model.save('my_model.keras')` or `keras.saving.save_model(model, 'my_model.keras')`. \n"
     ]
    }
   ],
   "source": [
    "model.save('./model2.h5')"
   ]
  }
 ],
 "metadata": {
  "kernelspec": {
   "display_name": "Python 3",
   "language": "python",
   "name": "python3"
  },
  "language_info": {
   "codemirror_mode": {
    "name": "ipython",
    "version": 3
   },
   "file_extension": ".py",
   "mimetype": "text/x-python",
   "name": "python",
   "nbconvert_exporter": "python",
   "pygments_lexer": "ipython3",
   "version": "3.10.12"
  }
 },
 "nbformat": 4,
 "nbformat_minor": 2
}
